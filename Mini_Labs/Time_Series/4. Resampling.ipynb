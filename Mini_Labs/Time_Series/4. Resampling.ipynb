{
 "cells": [
  {
   "cell_type": "code",
   "execution_count": 1,
   "metadata": {
    "collapsed": true
   },
   "outputs": [],
   "source": [
    "import pandas as pd\n",
    "import numpy as np"
   ]
  },
  {
   "cell_type": "code",
   "execution_count": 2,
   "metadata": {
    "collapsed": true
   },
   "outputs": [],
   "source": [
    "rng = pd.date_range('1/1/2011', periods=72, freq='H')\n",
    "ts = pd.Series(np.random.randn(len(rng)), index=rng)"
   ]
  },
  {
   "cell_type": "code",
   "execution_count": 3,
   "metadata": {
    "collapsed": true
   },
   "outputs": [],
   "source": [
    "converted = ts.asfreq('45Min', method='pad')"
   ]
  },
  {
   "cell_type": "code",
   "execution_count": 4,
   "metadata": {
    "collapsed": true
   },
   "outputs": [],
   "source": [
    "# What do the different methods do?\n",
    "# method : {‘backfill’, ‘bfill’, ‘pad’, ‘ffill’, None}"
   ]
  },
  {
   "cell_type": "code",
   "execution_count": 5,
   "metadata": {},
   "outputs": [
    {
     "data": {
      "text/plain": [
       "2011-01-01 00:00:00   -1.953605\n",
       "2011-01-01 01:30:00   -1.201893\n",
       "2011-01-01 03:00:00    0.299194\n",
       "2011-01-01 04:30:00   -0.289164\n",
       "2011-01-01 06:00:00   -0.118307\n",
       "2011-01-01 07:30:00    1.039390\n",
       "2011-01-01 09:00:00   -0.286199\n",
       "2011-01-01 10:30:00    1.219554\n",
       "2011-01-01 12:00:00    0.024129\n",
       "2011-01-01 13:30:00    1.382566\n",
       "2011-01-01 15:00:00   -0.304911\n",
       "2011-01-01 16:30:00    0.247380\n",
       "2011-01-01 18:00:00    2.104847\n",
       "2011-01-01 19:30:00   -0.374319\n",
       "2011-01-01 21:00:00   -0.447041\n",
       "2011-01-01 22:30:00    1.686421\n",
       "2011-01-02 00:00:00   -0.893726\n",
       "2011-01-02 01:30:00   -0.455594\n",
       "2011-01-02 03:00:00    0.134134\n",
       "2011-01-02 04:30:00   -0.108537\n",
       "2011-01-02 06:00:00   -1.713108\n",
       "2011-01-02 07:30:00    0.020787\n",
       "2011-01-02 09:00:00    0.400052\n",
       "2011-01-02 10:30:00   -1.460912\n",
       "2011-01-02 12:00:00   -0.690451\n",
       "2011-01-02 13:30:00   -0.720518\n",
       "2011-01-02 15:00:00    0.094157\n",
       "2011-01-02 16:30:00   -0.321817\n",
       "2011-01-02 18:00:00   -0.640726\n",
       "2011-01-02 19:30:00   -0.407250\n",
       "2011-01-02 21:00:00   -0.439456\n",
       "2011-01-02 22:30:00   -0.338947\n",
       "2011-01-03 00:00:00    0.343317\n",
       "2011-01-03 01:30:00   -0.154323\n",
       "2011-01-03 03:00:00   -0.587021\n",
       "2011-01-03 04:30:00    1.724964\n",
       "2011-01-03 06:00:00   -1.907270\n",
       "2011-01-03 07:30:00   -0.119808\n",
       "2011-01-03 09:00:00   -1.078730\n",
       "2011-01-03 10:30:00   -1.293741\n",
       "2011-01-03 12:00:00   -0.543162\n",
       "2011-01-03 13:30:00   -0.069874\n",
       "2011-01-03 15:00:00    0.801543\n",
       "2011-01-03 16:30:00   -0.210860\n",
       "2011-01-03 18:00:00   -1.822397\n",
       "2011-01-03 19:30:00   -0.846762\n",
       "2011-01-03 21:00:00   -0.440589\n",
       "2011-01-03 22:30:00   -0.222060\n",
       "Freq: 90T, dtype: float64"
      ]
     },
     "execution_count": 5,
     "metadata": {},
     "output_type": "execute_result"
    }
   ],
   "source": [
    "converted = ts.asfreq('90Min', method = 'backfill')\n",
    "converted"
   ]
  },
  {
   "cell_type": "code",
   "execution_count": 6,
   "metadata": {
    "collapsed": true
   },
   "outputs": [],
   "source": [
    "# What's the difference between going to a higher frequency and a lower frequency?"
   ]
  },
  {
   "cell_type": "code",
   "execution_count": 7,
   "metadata": {},
   "outputs": [
    {
     "data": {
      "text/plain": [
       "2011-01-01 00:00:00   -1.953605\n",
       "2011-01-01 01:30:00   -1.201893\n",
       "2011-01-01 03:00:00    0.299194\n",
       "2011-01-01 04:30:00   -0.289164\n",
       "2011-01-01 06:00:00   -0.118307\n",
       "2011-01-01 07:30:00    1.039390\n",
       "2011-01-01 09:00:00   -0.286199\n",
       "2011-01-01 10:30:00    1.219554\n",
       "2011-01-01 12:00:00    0.024129\n",
       "2011-01-01 13:30:00    1.382566\n",
       "2011-01-01 15:00:00   -0.304911\n",
       "2011-01-01 16:30:00    0.247380\n",
       "2011-01-01 18:00:00    2.104847\n",
       "2011-01-01 19:30:00   -0.374319\n",
       "2011-01-01 21:00:00   -0.447041\n",
       "2011-01-01 22:30:00    1.686421\n",
       "2011-01-02 00:00:00   -0.893726\n",
       "2011-01-02 01:30:00   -0.455594\n",
       "2011-01-02 03:00:00    0.134134\n",
       "2011-01-02 04:30:00   -0.108537\n",
       "2011-01-02 06:00:00   -1.713108\n",
       "2011-01-02 07:30:00    0.020787\n",
       "2011-01-02 09:00:00    0.400052\n",
       "2011-01-02 10:30:00   -1.460912\n",
       "2011-01-02 12:00:00   -0.690451\n",
       "2011-01-02 13:30:00   -0.720518\n",
       "2011-01-02 15:00:00    0.094157\n",
       "2011-01-02 16:30:00   -0.321817\n",
       "2011-01-02 18:00:00   -0.640726\n",
       "2011-01-02 19:30:00   -0.407250\n",
       "2011-01-02 21:00:00   -0.439456\n",
       "2011-01-02 22:30:00   -0.338947\n",
       "2011-01-03 00:00:00    0.343317\n",
       "2011-01-03 01:30:00   -0.154323\n",
       "2011-01-03 03:00:00   -0.587021\n",
       "2011-01-03 04:30:00    1.724964\n",
       "2011-01-03 06:00:00   -1.907270\n",
       "2011-01-03 07:30:00   -0.119808\n",
       "2011-01-03 09:00:00   -1.078730\n",
       "2011-01-03 10:30:00   -1.293741\n",
       "2011-01-03 12:00:00   -0.543162\n",
       "2011-01-03 13:30:00   -0.069874\n",
       "2011-01-03 15:00:00    0.801543\n",
       "2011-01-03 16:30:00   -0.210860\n",
       "2011-01-03 18:00:00   -1.822397\n",
       "2011-01-03 19:30:00   -0.846762\n",
       "2011-01-03 21:00:00   -0.440589\n",
       "2011-01-03 22:30:00   -0.222060\n",
       "Freq: 90T, dtype: float64"
      ]
     },
     "execution_count": 7,
     "metadata": {},
     "output_type": "execute_result"
    }
   ],
   "source": [
    "converted = ts.asfreq('90Min', method = 'bfill')\n",
    "converted"
   ]
  },
  {
   "cell_type": "code",
   "execution_count": 8,
   "metadata": {},
   "outputs": [
    {
     "data": {
      "text/plain": [
       "2011-01-01     3.167247\n",
       "2011-01-02   -12.175060\n",
       "2011-01-03    -7.745380\n",
       "Freq: D, dtype: float64"
      ]
     },
     "execution_count": 8,
     "metadata": {},
     "output_type": "execute_result"
    }
   ],
   "source": [
    "ts.resample('D').sum()"
   ]
  },
  {
   "cell_type": "code",
   "execution_count": 9,
   "metadata": {},
   "outputs": [
    {
     "data": {
      "text/plain": [
       "DatetimeIndexResampler [freq=<Day>, axis=0, closed=left, label=left, convention=start, base=0]"
      ]
     },
     "execution_count": 9,
     "metadata": {},
     "output_type": "execute_result"
    }
   ],
   "source": [
    "# What is the difference between .resample() and .asfreq()?\n",
    "ts.resample('D')"
   ]
  },
  {
   "cell_type": "code",
   "execution_count": 10,
   "metadata": {},
   "outputs": [
    {
     "data": {
      "text/plain": [
       "2011-01-01   -1.953605\n",
       "2011-01-02   -0.893726\n",
       "2011-01-03    0.343317\n",
       "Freq: D, dtype: float64"
      ]
     },
     "execution_count": 10,
     "metadata": {},
     "output_type": "execute_result"
    }
   ],
   "source": [
    "ts.asfreq('D')"
   ]
  },
  {
   "cell_type": "code",
   "execution_count": null,
   "metadata": {
    "collapsed": true
   },
   "outputs": [],
   "source": []
  }
 ],
 "metadata": {
  "kernelspec": {
   "display_name": "Python 3",
   "language": "python",
   "name": "python3"
  },
  "language_info": {
   "codemirror_mode": {
    "name": "ipython",
    "version": 3
   },
   "file_extension": ".py",
   "mimetype": "text/x-python",
   "name": "python",
   "nbconvert_exporter": "python",
   "pygments_lexer": "ipython3",
   "version": "3.6.1"
  }
 },
 "nbformat": 4,
 "nbformat_minor": 2
}
